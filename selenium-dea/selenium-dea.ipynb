{
 "cells": [
  {
   "cell_type": "markdown",
   "metadata": {},
   "source": [
    "# Test con Selenium"
   ]
  },
  {
   "cell_type": "markdown",
   "metadata": {},
   "source": [
    "## Selenium setup"
   ]
  },
  {
   "cell_type": "code",
   "execution_count": 1,
   "metadata": {},
   "outputs": [
    {
     "name": "stderr",
     "output_type": "stream",
     "text": [
      "/tmp/ipykernel_70618/2356281093.py:9: DeprecationWarning: use options instead of chrome_options\n",
      "  driver = webdriver.Chrome(chrome_options=options)\n"
     ]
    }
   ],
   "source": [
    "from selenium import webdriver\n",
    "\n",
    "options = webdriver.ChromeOptions()\n",
    "prefs = {\n",
    "    'download.default_directory': '/home/osvaldo/MedTrainer365/dea/selenium-dea/downloads',\n",
    "}\n",
    "options.add_experimental_option(\"prefs\", prefs)\n",
    "\n",
    "driver = webdriver.Chrome(chrome_options=options)"
   ]
  },
  {
   "cell_type": "markdown",
   "metadata": {},
   "source": [
    "## Go to DEA website"
   ]
  },
  {
   "cell_type": "code",
   "execution_count": 2,
   "metadata": {},
   "outputs": [],
   "source": [
    "driver.get('https://apps.deadiversion.usdoj.gov/webforms2/spring/validationLogin')"
   ]
  },
  {
   "cell_type": "markdown",
   "metadata": {},
   "source": [
    "## First login with DEA number"
   ]
  },
  {
   "cell_type": "code",
   "execution_count": 3,
   "metadata": {},
   "outputs": [],
   "source": [
    "## fill input field\n",
    "field = driver.find_element(by='id', value='pform:deaNumber')\n",
    "field.clear()\n",
    "field.send_keys(\"FE9093028\")\n",
    "## click Next button\n",
    "driver.find_element(by='id', value='pform:validateDeaNumberButton').click()"
   ]
  },
  {
   "cell_type": "markdown",
   "metadata": {},
   "source": [
    "## Second login with last name, ssn, zip and expiratio date"
   ]
  },
  {
   "cell_type": "code",
   "execution_count": 4,
   "metadata": {},
   "outputs": [],
   "source": [
    "secondLogin_dict = {\n",
    "    'csa_lastName': 'Estler',\n",
    "    'csa_ssn': '628225151', \n",
    "    'csa_zip': '78749', \n",
    "    'csa_expMonth': '08',\n",
    "    'csa_expYear': '2022',\n",
    "    }\n",
    "\n",
    "for element_value, field_value in secondLogin_dict.items():\n",
    "    field = driver.find_element(by='id', value=element_value)\n",
    "    #field.clear()\n",
    "    field.send_keys(field_value)\n",
    "\n",
    "## click Login button\n",
    "driver.find_element(by='name', value='submit').click()"
   ]
  },
  {
   "cell_type": "markdown",
   "metadata": {},
   "source": [
    "## Third login with Date of Birth"
   ]
  },
  {
   "cell_type": "code",
   "execution_count": 5,
   "metadata": {},
   "outputs": [],
   "source": [
    "## fill input field\n",
    "field = driver.find_element(by='id', value='checkDob:dobCal_input')\n",
    "field.send_keys('04/27/1988')\n",
    "\n",
    "## Click intermedio para hacer desaparecer el calendario\n",
    "driver.find_element(by='id', value='checkDob:j_idt18').click()\n",
    "\n",
    "## Click Validate DOB button\n",
    "driver.find_element(by='id', value='checkDob:validateDob').click()\n"
   ]
  },
  {
   "cell_type": "markdown",
   "metadata": {},
   "source": [
    "## 4th Login with DEA Registration Dataset Data-Use Agreement"
   ]
  },
  {
   "cell_type": "code",
   "execution_count": 6,
   "metadata": {},
   "outputs": [],
   "source": [
    "## Click checkbox\n",
    "driver.find_element(by='id', value='ackForm:acknowledgementCheckbox').click()\n",
    "\n",
    "## Click Next button\n",
    "driver.find_element(by='id', value='ackForm:nextButton').click()"
   ]
  },
  {
   "cell_type": "markdown",
   "metadata": {},
   "source": [
    "## 5th Login with DEA number validation"
   ]
  },
  {
   "cell_type": "code",
   "execution_count": 7,
   "metadata": {},
   "outputs": [],
   "source": [
    "## fill input field\n",
    "field = driver.find_element(by='id', value='validationForm:deaNumber')\n",
    "field.send_keys('FE9093028')\n",
    "\n",
    "## click Validate button\n",
    "driver.find_element(by='id', value='validationForm:proceed').click()"
   ]
  },
  {
   "cell_type": "markdown",
   "metadata": {},
   "source": [
    "## DOWNLOAD DEA Registration pdf"
   ]
  },
  {
   "cell_type": "code",
   "execution_count": 8,
   "metadata": {},
   "outputs": [],
   "source": [
    "downloadPDF = driver.find_element(by='id', value='validationForm:j_idt95').click()"
   ]
  },
  {
   "cell_type": "code",
   "execution_count": null,
   "metadata": {},
   "outputs": [],
   "source": [
    "driver.close()"
   ]
  },
  {
   "cell_type": "code",
   "execution_count": null,
   "metadata": {},
   "outputs": [],
   "source": []
  }
 ],
 "metadata": {
  "interpreter": {
   "hash": "f7e8e8c497a063f13cf543f46bf90c1c14f4913648f15fb70ab135db00560b16"
  },
  "kernelspec": {
   "display_name": "Python 3.9.7 64-bit ('venv': venv)",
   "language": "python",
   "name": "python3"
  },
  "language_info": {
   "codemirror_mode": {
    "name": "ipython",
    "version": 3
   },
   "file_extension": ".py",
   "mimetype": "text/x-python",
   "name": "python",
   "nbconvert_exporter": "python",
   "pygments_lexer": "ipython3",
   "version": "3.9.7"
  },
  "orig_nbformat": 4
 },
 "nbformat": 4,
 "nbformat_minor": 2
}
