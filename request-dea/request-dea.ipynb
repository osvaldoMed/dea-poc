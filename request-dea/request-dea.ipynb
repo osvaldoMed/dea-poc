{
 "cells": [
  {
   "cell_type": "code",
   "execution_count": 1,
   "metadata": {},
   "outputs": [],
   "source": [
    "import requests"
   ]
  },
  {
   "cell_type": "code",
   "execution_count": 2,
   "metadata": {},
   "outputs": [],
   "source": [
    "session = requests.Session()"
   ]
  },
  {
   "cell_type": "code",
   "execution_count": 3,
   "metadata": {},
   "outputs": [],
   "source": [
    "s1 = session.get('https://apps.deadiversion.usdoj.gov/webforms2/spring/validationLogin')"
   ]
  },
  {
   "cell_type": "code",
   "execution_count": 4,
   "metadata": {},
   "outputs": [
    {
     "data": {
      "text/plain": [
       "['_content',\n",
       " 'status_code',\n",
       " 'headers',\n",
       " 'url',\n",
       " 'history',\n",
       " 'encoding',\n",
       " 'reason',\n",
       " 'cookies',\n",
       " 'elapsed',\n",
       " 'request']"
      ]
     },
     "execution_count": 4,
     "metadata": {},
     "output_type": "execute_result"
    }
   ],
   "source": [
    "s1.__attrs__"
   ]
  },
  {
   "cell_type": "code",
   "execution_count": 5,
   "metadata": {},
   "outputs": [
    {
     "data": {
      "text/plain": [
       "'JSESSIONID=Kxpw73oJTC-x6MYW565jFUa2XVNGk5_-ai-R9WyM.web1; BIGipServerDOT_DTWEB_PROD_JBOSSAPPS_HTTPS_Pool=1684933130.64288.0000'"
      ]
     },
     "execution_count": 5,
     "metadata": {},
     "output_type": "execute_result"
    }
   ],
   "source": [
    "s1.request.headers['Cookie']"
   ]
  },
  {
   "cell_type": "code",
   "execution_count": 6,
   "metadata": {},
   "outputs": [
    {
     "data": {
      "text/plain": [
       "<RequestsCookieJar[Cookie(version=0, name='BIGipServerDOT_DTWEB_PROD_JBOSSAPPS_HTTPS_Pool', value='1684933130.64288.0000', port=None, port_specified=False, domain='apps.deadiversion.usdoj.gov', domain_specified=False, domain_initial_dot=False, path='/', path_specified=True, secure=True, expires=None, discard=True, comment=None, comment_url=None, rest={'Httponly': None}, rfc2109=False), Cookie(version=0, name='JSESSIONID', value='Kxpw73oJTC-x6MYW565jFUa2XVNGk5_-ai-R9WyM.web1', port=None, port_specified=False, domain='apps.deadiversion.usdoj.gov', domain_specified=False, domain_initial_dot=False, path='/webforms2', path_specified=True, secure=False, expires=None, discard=True, comment=None, comment_url=None, rest={}, rfc2109=False)]>"
      ]
     },
     "execution_count": 6,
     "metadata": {},
     "output_type": "execute_result"
    }
   ],
   "source": [
    "session.cookies"
   ]
  },
  {
   "cell_type": "code",
   "execution_count": 7,
   "metadata": {},
   "outputs": [
    {
     "data": {
      "text/plain": [
       "'https://apps.deadiversion.usdoj.gov/webforms2/spring/validationLogin?execution=e1s1'"
      ]
     },
     "execution_count": 7,
     "metadata": {},
     "output_type": "execute_result"
    }
   ],
   "source": [
    "s1.url"
   ]
  },
  {
   "cell_type": "code",
   "execution_count": 8,
   "metadata": {},
   "outputs": [],
   "source": [
    "\n",
    "formdata = {'pform:deaNumber':'FE9093028'}\n",
    "s2 = session.post(s1.url, data=formdata)"
   ]
  },
  {
   "cell_type": "code",
   "execution_count": 9,
   "metadata": {},
   "outputs": [
    {
     "data": {
      "text/plain": [
       "{'Expires': '', 'Cache-Control': 'no-store', 'X-Powered-By': 'Undertow/1', 'Server': '', 'X-XSS-Protection': '1; mode=block', 'Pragma': '', 'X-Frame-Options': 'SAMEORIGIN', 'Date': 'Thu, 02 Dec 2021 15:41:58 GMT', 'Connection': 'keep-alive', 'Strict-Transport-Security': 'max-age=31536000 ; includeSubDomains', 'X-Content-Type-Options': 'nosniff', 'Content-Type': 'text/html;charset=UTF-8', 'Content-Length': '8417'}"
      ]
     },
     "execution_count": 9,
     "metadata": {},
     "output_type": "execute_result"
    }
   ],
   "source": [
    "s2.headers"
   ]
  },
  {
   "cell_type": "code",
   "execution_count": 11,
   "metadata": {},
   "outputs": [
    {
     "data": {
      "text/plain": [
       "b'<?xml version=\\'1.0\\' encoding=\\'UTF-8\\' ?>\\n<!DOCTYPE composition>\\n<html xmlns=\"http://www.w3.org/1999/xhtml\"><head id=\"j_idt2\">\\n\\t\\t\\t<meta http-equiv=\"X-UA-Compatible\" content=\"IE=edge\" />\\n\\t\\t\\t<meta http-equiv=\"Content-Type\" content=\"text/html; charset=UTF-8\" lang=\"en\" />\\n\\t\\t\\t<meta name=\"viewport\" content=\"width=device-width, initial-scale=1.0\" />\\n\\t\\t\\t<meta name=\"apple-mobile-web-app-capable\" content=\"yes\" /><link type=\"text/css\" rel=\"stylesheet\" href=\"/webforms2/spring/javax.faces.resource/theme.css?ln=primefaces-sam\" /><link type=\"text/css\" rel=\"stylesheet\" href=\"/webforms2/spring/javax.faces.resource/components.css?ln=primefaces&amp;v=6.2\" /><script type=\"text/javascript\" src=\"/webforms2/spring/javax.faces.resource/jquery/jquery.js?ln=primefaces&amp;v=6.2\"></script><script type=\"text/javascript\" src=\"/webforms2/spring/javax.faces.resource/jquery/jquery-plugins.js?ln=primefaces&amp;v=6.2\"></script><script type=\"text/javascript\" src=\"/webforms2/spring/javax.faces.resource/core.js?ln=primefaces&amp;v=6.2\"></script><script type=\"text/javascript\" src=\"/webforms2/spring/javax.faces.resource/components.js?ln=primefaces&amp;v=6.2\"></script><script type=\"text/javascript\">if(window.PrimeFaces){PrimeFaces.settings.locale=\\'en_US\\';}</script>\\n\\n\\t\\t<link rel=\"icon\" href=\"/webforms2/images/diversion.png\" />\\n\\n\\t\\t<title>CSA Registration Tools: Login</title>\\n\\t\\t<style>\\n\\n</style>\\n\\t\\t<script type=\"text/javascript\">\\n            //<![CDATA[\\n            function getChar (event){\\n               var keyCode = (\\'which\\' in event) ? event.which : event.keyCode;                    \\n               <!--alert (\"The Unicode key code of the released key: \" + keyCode);-->\\n               return keyCode;\\n            };\\n            function onloadSetup ()\\n            {\\n               var selectElement = document.getElementById(\"csa_expYear\");\\n               var selectedItem = null;\\n               for (i=0; i != selectElement.options.length; i++)             \\n               {\\n                  if (selectElement.options[i].selected == true)\\n                     selectedItem = selectElement.options[i];\\n               }\\n                    \\n               selectElement.options.length = 0;    \\n               selectElement.options[selectElement.options.length]=new Option(\"-Year-\",\"\",false,false);\\n               var year = new Date().getFullYear();\\n               year--;\\n               for (i=0; i != 6; i++)\\n               {\\n                  selectElement.options[selectElement.options.length]=new Option(year+i,year+i,false,false);\\n                  if ( selectedItem != null && selectElement.options[selectElement.options.length-1].value == selectedItem.value)\\n                  {\\n                     selectElement.options[selectElement.options.length-1].selected = true;  \\n                  }\\n               }\\n            };\\n            //]]>\\n         </script>\\n\\n\\t\\t\\n\\t\\t<style type=\"text/css\">\\ndiv#tipDiv {\\n\\tfont-size: 14px;\\n\\tline-height: 1.2;\\n\\tpadding: 6px;\\n}\\n\\ndiv.tooltip_help {\\n\\tcolor: #000000;\\n\\tbackground-color: #E1E5F1;\\n\\tborder: 2px solid #667295;\\n\\twidth: 310px;\\n}\\n</style></head><body style=\"background-image: url(\\'/webforms2/images/page_bg.jpg\\'); background-position:center top;               background-repeat:no-repeat;background-color:#e6e7e8;\" onload=\"onloadSetup();\">\\n\\t\\t<link rel=\"stylesheet\" href=\"/webforms2/styles/styles.css\" type=\"text/css\" media=\"screen, projection, print\" />\\n\\t\\t<link rel=\"stylesheet\" href=\"/webforms2/styles/blueprint/screen.css\" type=\"text/css\" media=\"screen, projection\" />\\n\\t\\t<link rel=\"stylesheet\" href=\"/webforms2/styles/blueprint/print.css\" type=\"text/css\" media=\"print\" /><!--[if lt IE 8]><link rel=\"stylesheet\" href=\"/webforms2/styles/blueprint/ie.css\" type=\"text/css\" media=\"screen, projection\" /><![endif]--><!--<link rel=\"stylesheet\" href=\"/webforms2/styles/cupertino/skin.css\" type=\"text/css\" media=\"screen\" />-->\\n\\t\\t<link rel=\"stylesheet\" href=\"/webforms2/styles/blueprint/plugins/liquid/liquid.css\" type=\"text/css\" media=\"screen, projection\" />\\n\\t\\t<div class=\"container\">\\n\\t\\t\\t<div class=\"span-24 last hideFromPrinter\" style=\"background-image: url(\\'/webforms2/images/odt_banner_ext.jpg\\')\">\\n\\t\\t\\t\\t<img src=\"/webforms2/images/odt_banner.jpg\" alt=\"DEA: Diversion Control\" />\\n\\t\\t\\t</div>\\n\\n\\t\\t\\t<div class=\"span-24 last\">\\n\\t\\t\\t\\t<h4 class=\"alt bottom\" style=\"color: #ffffff\">\\n\\t\\t\\t\\t\\t\\t\\t<a class=\"login\" href=\"/webforms2\">Registration Tools</a>\\n\\t\\t\\t\\t</h4>\\n\\t\\t\\t</div>\\n\\t\\t\\t<hr class=\"space\" />\\n\\t\\t\\t<div class=\"span-24 last\">\\n\\t\\t\\t\\t<div class=\"span-24 last\">\\n\\t\\t<div class=\"span-22 append-2 last\"><fieldset id=\"j_idt19\" class=\"ui-fieldset ui-widget ui-widget-content ui-corner-all ui-hidden-container\" data-widget=\"widget_j_idt19\"><div class=\"ui-fieldset-content\">\\n<form id=\"pform\" name=\"pform\" method=\"post\" action=\"/webforms2/spring/validationLogin?execution=e1s1\" enctype=\"application/x-www-form-urlencoded\">\\n<input type=\"hidden\" name=\"pform\" value=\"pform\" />\\n<fieldset id=\"pform:j_idt20\" class=\"ui-fieldset ui-widget ui-widget-content ui-corner-all ui-hidden-container\" data-widget=\"widget_pform_j_idt20\"><div class=\"ui-fieldset-content\">\\n\\t\\t\\t\\t\\t\\t<legend>CSA Registration Validation Tool: Login Information</legend>\\n\\t\\t\\t\\t\\t\\t<p>\\n\\t\\t\\t\\t\\t\\t\\tYou will need information from your <b>registration certificate </b> in order to login.\\n\\t\\t\\t\\t\\t\\t</p><table id=\"pform:deaNoPanel\">\\n<tbody>\\n<tr>\\n<td>\\n\\t\\t\\t\\t\\t\\t\\t\\t<label for=\"deaNumber\">DEA Number (Not Case Sensitive)</label></td>\\n<td><span style=\"float:left\"><input id=\"pform:deaNumber\" name=\"pform:deaNumber\" type=\"text\" value=\"\" maxlength=\"9\" size=\"9\" style=\"text-transform: uppercase;\" class=\"ui-inputfield ui-inputtext ui-widget ui-state-default ui-corner-all\" /><script id=\"pform:deaNumber_s\" type=\"text/javascript\">PrimeFaces.cw(\"InputText\",\"widget_pform_deaNumber\",{id:\"pform:deaNumber\"});</script><div id=\"pform:controlNumberToolTip\" class=\"ui-tooltip ui-widget ui-tooltip-top\"><div class=\"ui-tooltip-arrow\"></div><div class=\"ui-tooltip-text ui-shadow ui-corner-all\">Please enter your DEA Registration Number.</div></div><script id=\"pform:controlNumberToolTip_s\" type=\"text/javascript\">$(function(){PrimeFaces.cw(\"Tooltip\",\"widget_pform_controlNumberToolTip\",{id:\"pform:controlNumberToolTip\",showEffect:\"fade\",hideEffect:\"fade\",target:\"pform:deaNumber\",position:\"top\"});});</script></span></td>\\n<td><span style=\"float:left\"><button id=\"pform:validateDeaNumberButton\" name=\"pform:validateDeaNumberButton\" class=\"ui-button ui-widget ui-state-default ui-corner-all ui-button-text-only\" onclick=\"PrimeFaces.onPost();\" type=\"submit\"><span class=\"ui-button-text ui-c\">Next</span></button><script id=\"pform:validateDeaNumberButton_s\" type=\"text/javascript\">PrimeFaces.cw(\"CommandButton\",\"widget_pform_validateDeaNumberButton\",{id:\"pform:validateDeaNumberButton\"});</script><button id=\"pform:clearButton\" name=\"pform:clearButton\" class=\"ui-button ui-widget ui-state-default ui-corner-all ui-button-text-only\" onclick=\"PrimeFaces.onPost();\" type=\"submit\"><span class=\"ui-button-text ui-c\">Clear</span></button><script id=\"pform:clearButton_s\" type=\"text/javascript\">PrimeFaces.cw(\"CommandButton\",\"widget_pform_clearButton\",{id:\"pform:clearButton\"});</script></span></td>\\n</tr>\\n</tbody>\\n</table>\\n<div id=\"pform:j_idt27\" class=\"ui-messages ui-widget\" aria-live=\"polite\"></div></div></fieldset><script id=\"pform:j_idt20_s\" type=\"text/javascript\">PrimeFaces.cw(\"Fieldset\",\"widget_pform_j_idt20\",{id:\"pform:j_idt20\"});</script><input type=\"hidden\" name=\"javax.faces.ViewState\" id=\"javax.faces.ViewState\" value=\"e1s1\" />\\n</form>\\n\\t\\t\\t\\t<form name=\"f\" action=\"/webforms2/spring/loginProcess\" method=\"post\" style=\"background-color: #FFFFFF; border-bottom-width: medium; border-style: groove; margin-top: 0;\">\\n\\t\\t\\t\\t\\t<input type=\"hidden\" />\\n\\t\\t\\t\\t\\t<fieldset><input type=\"hidden\" id=\"csa_deaNum\" name=\"csa_deaNum\" size=\"12\" value=\"\"  />\\n\\t\\t\\t\\t\\t</fieldset>\\n\\t\\t\\t\\t</form></div></fieldset><script id=\"j_idt19_s\" type=\"text/javascript\">PrimeFaces.cw(\"Fieldset\",\"widget_j_idt19\",{id:\"j_idt19\"});</script>\\n\\n\\t\\t\\t<div style=\"background-color: #EFEEEE; padding: 1em\">\\n\\t\\t\\t\\t<h6>Having Trouble Logging In?</h6>\\n\\t\\t\\t\\t<br />\\n\\t\\t\\t\\t<p>\\n\\t\\t\\t\\t\\t<b>Email Us:</b> \\xc2\\xa0<b>DEA.Registration.Help@usdoj.gov</b> <br /> <i>Please include</i> the name on your Application/Registration and one of the following:<br />\\n\\t\\t\\t\\t\\tDEA Number, Application Control Number, or Web Tracking Number\\n\\t\\t\\t\\t</p>\\n\\t\\t\\t\\t<p>\\n\\t\\t\\t\\t\\t<b>Telephone Us Toll Free:</b> (800) 882-9539\\n\\t\\t\\t\\t</p>\\n\\n\\t\\t\\t</div>\\n\\t\\t</div>\\n\\t\\t\\t\\t\\t<hr />\\n\\t\\t\\t\\t</div>\\n\\t\\t\\t</div>\\n\\t\\t</div></body>\\n</html>'"
      ]
     },
     "execution_count": 11,
     "metadata": {},
     "output_type": "execute_result"
    }
   ],
   "source": [
    "s2._content"
   ]
  },
  {
   "cell_type": "code",
   "execution_count": 10,
   "metadata": {},
   "outputs": [
    {
     "data": {
      "text/plain": [
       "b'<?xml version=\\'1.0\\' encoding=\\'UTF-8\\' ?>\\n<!DOCTYPE composition>\\n<html xmlns=\"http://www.w3.org/1999/xhtml\"><head id=\"j_idt2\">\\n\\t\\t\\t<meta http-equiv=\"X-UA-Compatible\" content=\"IE=edge\" />\\n\\t\\t\\t<meta http-equiv=\"Content-Type\" content=\"text/html; charset=UTF-8\" lang=\"en\" />\\n\\t\\t\\t<meta name=\"viewport\" content=\"width=device-width, initial-scale=1.0\" />\\n\\t\\t\\t<meta name=\"apple-mobile-web-app-capable\" content=\"yes\" /><link type=\"text/css\" rel=\"stylesheet\" href=\"/webforms2/spring/javax.faces.resource/theme.css?ln=primefaces-sam\" /><link type=\"text/css\" rel=\"stylesheet\" href=\"/webforms2/spring/javax.faces.resource/components.css?ln=primefaces&amp;v=6.2\" /><script type=\"text/javascript\" src=\"/webforms2/spring/javax.faces.resource/jquery/jquery.js?ln=primefaces&amp;v=6.2\"></script><script type=\"text/javascript\" src=\"/webforms2/spring/javax.faces.resource/jquery/jquery-plugins.js?ln=primefaces&amp;v=6.2\"></script><script type=\"text/javascript\" src=\"/webforms2/spring/javax.faces.resource/core.js?ln=primefaces&amp;v=6.2\"></script><script type=\"text/javascript\" src=\"/webforms2/spring/javax.faces.resource/components.js?ln=primefaces&amp;v=6.2\"></script><script type=\"text/javascript\">if(window.PrimeFaces){PrimeFaces.settings.locale=\\'en_US\\';}</script>\\n\\n\\t\\t<link rel=\"icon\" href=\"/webforms2/images/diversion.png\" />\\n\\n\\t\\t<title>CSA Registration Tools: Login</title>\\n\\t\\t<style>\\n\\n</style>\\n\\t\\t<script type=\"text/javascript\">\\n            //<![CDATA[\\n            function getChar (event){\\n               var keyCode = (\\'which\\' in event) ? event.which : event.keyCode;                    \\n               <!--alert (\"The Unicode key code of the released key: \" + keyCode);-->\\n               return keyCode;\\n            };\\n            function onloadSetup ()\\n            {\\n               var selectElement = document.getElementById(\"csa_expYear\");\\n               var selectedItem = null;\\n               for (i=0; i != selectElement.options.length; i++)             \\n               {\\n                  if (selectElement.options[i].selected == true)\\n                     selectedItem = selectElement.options[i];\\n               }\\n                    \\n               selectElement.options.length = 0;    \\n               selectElement.options[selectElement.options.length]=new Option(\"-Year-\",\"\",false,false);\\n               var year = new Date().getFullYear();\\n               year--;\\n               for (i=0; i != 6; i++)\\n               {\\n                  selectElement.options[selectElement.options.length]=new Option(year+i,year+i,false,false);\\n                  if ( selectedItem != null && selectElement.options[selectElement.options.length-1].value == selectedItem.value)\\n                  {\\n                     selectElement.options[selectElement.options.length-1].selected = true;  \\n                  }\\n               }\\n            };\\n            //]]>\\n         </script>\\n\\n\\t\\t\\n\\t\\t<style type=\"text/css\">\\ndiv#tipDiv {\\n\\tfont-size: 14px;\\n\\tline-height: 1.2;\\n\\tpadding: 6px;\\n}\\n\\ndiv.tooltip_help {\\n\\tcolor: #000000;\\n\\tbackground-color: #E1E5F1;\\n\\tborder: 2px solid #667295;\\n\\twidth: 310px;\\n}\\n</style></head><body style=\"background-image: url(\\'/webforms2/images/page_bg.jpg\\'); background-position:center top;               background-repeat:no-repeat;background-color:#e6e7e8;\" onload=\"onloadSetup();\">\\n\\t\\t<link rel=\"stylesheet\" href=\"/webforms2/styles/styles.css\" type=\"text/css\" media=\"screen, projection, print\" />\\n\\t\\t<link rel=\"stylesheet\" href=\"/webforms2/styles/blueprint/screen.css\" type=\"text/css\" media=\"screen, projection\" />\\n\\t\\t<link rel=\"stylesheet\" href=\"/webforms2/styles/blueprint/print.css\" type=\"text/css\" media=\"print\" /><!--[if lt IE 8]><link rel=\"stylesheet\" href=\"/webforms2/styles/blueprint/ie.css\" type=\"text/css\" media=\"screen, projection\" /><![endif]--><!--<link rel=\"stylesheet\" href=\"/webforms2/styles/cupertino/skin.css\" type=\"text/css\" media=\"screen\" />-->\\n\\t\\t<link rel=\"stylesheet\" href=\"/webforms2/styles/blueprint/plugins/liquid/liquid.css\" type=\"text/css\" media=\"screen, projection\" />\\n\\t\\t<div class=\"container\">\\n\\t\\t\\t<div class=\"span-24 last hideFromPrinter\" style=\"background-image: url(\\'/webforms2/images/odt_banner_ext.jpg\\')\">\\n\\t\\t\\t\\t<img src=\"/webforms2/images/odt_banner.jpg\" alt=\"DEA: Diversion Control\" />\\n\\t\\t\\t</div>\\n\\n\\t\\t\\t<div class=\"span-24 last\">\\n\\t\\t\\t\\t<h4 class=\"alt bottom\" style=\"color: #ffffff\">\\n\\t\\t\\t\\t\\t\\t\\t<a class=\"login\" href=\"/webforms2\">Registration Tools</a>\\n\\t\\t\\t\\t</h4>\\n\\t\\t\\t</div>\\n\\t\\t\\t<hr class=\"space\" />\\n\\t\\t\\t<div class=\"span-24 last\">\\n\\t\\t\\t\\t<div class=\"span-24 last\">\\n\\t\\t<div class=\"span-22 append-2 last\"><fieldset id=\"j_idt19\" class=\"ui-fieldset ui-widget ui-widget-content ui-corner-all ui-hidden-container\" data-widget=\"widget_j_idt19\"><div class=\"ui-fieldset-content\">\\n<form id=\"pform\" name=\"pform\" method=\"post\" action=\"/webforms2/spring/validationLogin?execution=e1s1\" enctype=\"application/x-www-form-urlencoded\">\\n<input type=\"hidden\" name=\"pform\" value=\"pform\" />\\n<fieldset id=\"pform:j_idt20\" class=\"ui-fieldset ui-widget ui-widget-content ui-corner-all ui-hidden-container\" data-widget=\"widget_pform_j_idt20\"><div class=\"ui-fieldset-content\">\\n\\t\\t\\t\\t\\t\\t<legend>CSA Registration Validation Tool: Login Information</legend>\\n\\t\\t\\t\\t\\t\\t<p>\\n\\t\\t\\t\\t\\t\\t\\tYou will need information from your <b>registration certificate </b> in order to login.\\n\\t\\t\\t\\t\\t\\t</p><table id=\"pform:deaNoPanel\">\\n<tbody>\\n<tr>\\n<td>\\n\\t\\t\\t\\t\\t\\t\\t\\t<label for=\"deaNumber\">DEA Number (Not Case Sensitive)</label></td>\\n<td><span style=\"float:left\"><input id=\"pform:deaNumber\" name=\"pform:deaNumber\" type=\"text\" value=\"\" maxlength=\"9\" size=\"9\" style=\"text-transform: uppercase;\" class=\"ui-inputfield ui-inputtext ui-widget ui-state-default ui-corner-all\" /><script id=\"pform:deaNumber_s\" type=\"text/javascript\">PrimeFaces.cw(\"InputText\",\"widget_pform_deaNumber\",{id:\"pform:deaNumber\"});</script><div id=\"pform:controlNumberToolTip\" class=\"ui-tooltip ui-widget ui-tooltip-top\"><div class=\"ui-tooltip-arrow\"></div><div class=\"ui-tooltip-text ui-shadow ui-corner-all\">Please enter your DEA Registration Number.</div></div><script id=\"pform:controlNumberToolTip_s\" type=\"text/javascript\">$(function(){PrimeFaces.cw(\"Tooltip\",\"widget_pform_controlNumberToolTip\",{id:\"pform:controlNumberToolTip\",showEffect:\"fade\",hideEffect:\"fade\",target:\"pform:deaNumber\",position:\"top\"});});</script></span></td>\\n<td><span style=\"float:left\"><button id=\"pform:validateDeaNumberButton\" name=\"pform:validateDeaNumberButton\" class=\"ui-button ui-widget ui-state-default ui-corner-all ui-button-text-only\" onclick=\"PrimeFaces.onPost();\" type=\"submit\"><span class=\"ui-button-text ui-c\">Next</span></button><script id=\"pform:validateDeaNumberButton_s\" type=\"text/javascript\">PrimeFaces.cw(\"CommandButton\",\"widget_pform_validateDeaNumberButton\",{id:\"pform:validateDeaNumberButton\"});</script><button id=\"pform:clearButton\" name=\"pform:clearButton\" class=\"ui-button ui-widget ui-state-default ui-corner-all ui-button-text-only\" onclick=\"PrimeFaces.onPost();\" type=\"submit\"><span class=\"ui-button-text ui-c\">Clear</span></button><script id=\"pform:clearButton_s\" type=\"text/javascript\">PrimeFaces.cw(\"CommandButton\",\"widget_pform_clearButton\",{id:\"pform:clearButton\"});</script></span></td>\\n</tr>\\n</tbody>\\n</table>\\n<div id=\"pform:j_idt27\" class=\"ui-messages ui-widget\" aria-live=\"polite\"></div></div></fieldset><script id=\"pform:j_idt20_s\" type=\"text/javascript\">PrimeFaces.cw(\"Fieldset\",\"widget_pform_j_idt20\",{id:\"pform:j_idt20\"});</script><input type=\"hidden\" name=\"javax.faces.ViewState\" id=\"javax.faces.ViewState\" value=\"e1s1\" />\\n</form>\\n\\t\\t\\t\\t<form name=\"f\" action=\"/webforms2/spring/loginProcess\" method=\"post\" style=\"background-color: #FFFFFF; border-bottom-width: medium; border-style: groove; margin-top: 0;\">\\n\\t\\t\\t\\t\\t<input type=\"hidden\" />\\n\\t\\t\\t\\t\\t<fieldset><input type=\"hidden\" id=\"csa_deaNum\" name=\"csa_deaNum\" size=\"12\" value=\"\"  />\\n\\t\\t\\t\\t\\t</fieldset>\\n\\t\\t\\t\\t</form></div></fieldset><script id=\"j_idt19_s\" type=\"text/javascript\">PrimeFaces.cw(\"Fieldset\",\"widget_j_idt19\",{id:\"j_idt19\"});</script>\\n\\n\\t\\t\\t<div style=\"background-color: #EFEEEE; padding: 1em\">\\n\\t\\t\\t\\t<h6>Having Trouble Logging In?</h6>\\n\\t\\t\\t\\t<br />\\n\\t\\t\\t\\t<p>\\n\\t\\t\\t\\t\\t<b>Email Us:</b> \\xc2\\xa0<b>DEA.Registration.Help@usdoj.gov</b> <br /> <i>Please include</i> the name on your Application/Registration and one of the following:<br />\\n\\t\\t\\t\\t\\tDEA Number, Application Control Number, or Web Tracking Number\\n\\t\\t\\t\\t</p>\\n\\t\\t\\t\\t<p>\\n\\t\\t\\t\\t\\t<b>Telephone Us Toll Free:</b> (800) 882-9539\\n\\t\\t\\t\\t</p>\\n\\n\\t\\t\\t</div>\\n\\t\\t</div>\\n\\t\\t\\t\\t\\t<hr />\\n\\t\\t\\t\\t</div>\\n\\t\\t\\t</div>\\n\\t\\t</div></body>\\n</html>'"
      ]
     },
     "execution_count": 10,
     "metadata": {},
     "output_type": "execute_result"
    }
   ],
   "source": [
    "s1._content"
   ]
  },
  {
   "cell_type": "code",
   "execution_count": null,
   "metadata": {},
   "outputs": [],
   "source": []
  }
 ],
 "metadata": {
  "interpreter": {
   "hash": "e2dab545d83a7e0f524898e761f4dd0e29cf8c18d70baa5f80c8d2ddcc6a540a"
  },
  "kernelspec": {
   "display_name": "Python 3.9.7 64-bit ('venv': venv)",
   "language": "python",
   "name": "python3"
  },
  "language_info": {
   "codemirror_mode": {
    "name": "ipython",
    "version": 3
   },
   "file_extension": ".py",
   "mimetype": "text/x-python",
   "name": "python",
   "nbconvert_exporter": "python",
   "pygments_lexer": "ipython3",
   "version": "3.9.7"
  },
  "orig_nbformat": 4
 },
 "nbformat": 4,
 "nbformat_minor": 2
}
